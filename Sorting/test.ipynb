{
 "cells": [
  {
   "cell_type": "code",
   "execution_count": 1,
   "id": "88d38010-c1cd-49fb-95c0-1d07606c209c",
   "metadata": {},
   "outputs": [],
   "source": [
    "stages = [2, 1, 2, 6, 2, 4, 3, 3]"
   ]
  },
  {
   "cell_type": "code",
   "execution_count": 3,
   "id": "ae2c1940-8ec2-4fdb-828b-0ccc3048635d",
   "metadata": {},
   "outputs": [
    {
     "data": {
      "text/plain": [
       "1"
      ]
     },
     "execution_count": 3,
     "metadata": {},
     "output_type": "execute_result"
    }
   ],
   "source": [
    "stages.count(1)"
   ]
  },
  {
   "cell_type": "code",
   "execution_count": 5,
   "id": "11bd07d0-612e-4efa-825a-2893cfedaad3",
   "metadata": {},
   "outputs": [
    {
     "data": {
      "text/plain": [
       "[6, 4, 3, 3, 2, 2, 2, 1]"
      ]
     },
     "execution_count": 5,
     "metadata": {},
     "output_type": "execute_result"
    }
   ],
   "source": [
    "sorted(stages, reverse=True)"
   ]
  },
  {
   "cell_type": "code",
   "execution_count": 7,
   "id": "da6e6fc8-6fcc-483b-9b38-528682d72b62",
   "metadata": {},
   "outputs": [],
   "source": [
    "answer = []\n",
    "length = len(stages)\n",
    "N = 5\n",
    "for i in range(1, N+1):\n",
    "    count = stages.count(i) # 리스트에서 count를 쓰면 value의 개수를 카운팅해줌\n",
    "    if length == 0:\n",
    "        fail = 0\n",
    "    else:\n",
    "        fail = count / length\n",
    "\n",
    "    answer.append((i, fail))\n",
    "    length -= count # 상위 스테이지에서는 하위 스테이지의 개수 빼주기"
   ]
  },
  {
   "cell_type": "code",
   "execution_count": 8,
   "id": "99481789-267a-43d8-8548-45e2c3a1a451",
   "metadata": {},
   "outputs": [
    {
     "data": {
      "text/plain": [
       "[(1, 0.125), (2, 0.42857142857142855), (3, 0.5), (4, 0.5), (5, 0.0)]"
      ]
     },
     "execution_count": 8,
     "metadata": {},
     "output_type": "execute_result"
    }
   ],
   "source": [
    "answer"
   ]
  },
  {
   "cell_type": "code",
   "execution_count": 9,
   "id": "9eae6fbb-6205-402f-bb2b-03f7222b32a4",
   "metadata": {},
   "outputs": [],
   "source": [
    "answer = sorted(answer, key=lambda t:t[1], reverse=True)"
   ]
  },
  {
   "cell_type": "code",
   "execution_count": 10,
   "id": "99a25ad4-57fb-4a50-9456-2016813f02cb",
   "metadata": {},
   "outputs": [
    {
     "data": {
      "text/plain": [
       "[(3, 0.5), (4, 0.5), (2, 0.42857142857142855), (1, 0.125), (5, 0.0)]"
      ]
     },
     "execution_count": 10,
     "metadata": {},
     "output_type": "execute_result"
    }
   ],
   "source": [
    "answer"
   ]
  },
  {
   "cell_type": "code",
   "execution_count": null,
   "id": "10e6f306-2746-4d78-b7d1-51d33a994adf",
   "metadata": {},
   "outputs": [],
   "source": []
  }
 ],
 "metadata": {
  "kernelspec": {
   "display_name": "Python 3 (ipykernel)",
   "language": "python",
   "name": "python3"
  },
  "language_info": {
   "codemirror_mode": {
    "name": "ipython",
    "version": 3
   },
   "file_extension": ".py",
   "mimetype": "text/x-python",
   "name": "python",
   "nbconvert_exporter": "python",
   "pygments_lexer": "ipython3",
   "version": "3.9.12"
  }
 },
 "nbformat": 4,
 "nbformat_minor": 5
}
