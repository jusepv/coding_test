{
 "cells": [
  {
   "cell_type": "code",
   "execution_count": 2,
   "id": "88d38010-c1cd-49fb-95c0-1d07606c209c",
   "metadata": {},
   "outputs": [],
   "source": [
    "from itertools import combinations\n"
   ]
  },
  {
   "cell_type": "code",
   "execution_count": 15,
   "id": "ae2c1940-8ec2-4fdb-828b-0ccc3048635d",
   "metadata": {},
   "outputs": [],
   "source": [
    "N = 6"
   ]
  },
  {
   "cell_type": "code",
   "execution_count": 16,
   "id": "7cc6af47",
   "metadata": {},
   "outputs": [],
   "source": [
    "half = int(N/2)"
   ]
  },
  {
   "cell_type": "code",
   "execution_count": 17,
   "id": "6978a729",
   "metadata": {},
   "outputs": [],
   "source": [
    "ls = [i for i in range(N)]"
   ]
  },
  {
   "cell_type": "code",
   "execution_count": 36,
   "id": "875b6284",
   "metadata": {},
   "outputs": [],
   "source": [
    "comb = combinations(ls, half)"
   ]
  },
  {
   "cell_type": "code",
   "execution_count": 37,
   "id": "b68e4c92",
   "metadata": {},
   "outputs": [
    {
     "name": "stdout",
     "output_type": "stream",
     "text": [
      "[0, 1, 2]\n",
      "[0, 1, 3]\n",
      "[0, 1, 4]\n",
      "[0, 1, 5]\n",
      "[0, 2, 3]\n",
      "[0, 2, 4]\n",
      "[0, 2, 5]\n",
      "[0, 3, 4]\n",
      "[0, 3, 5]\n",
      "[0, 4, 5]\n",
      "[1, 2, 3]\n",
      "[1, 2, 4]\n",
      "[1, 2, 5]\n",
      "[1, 3, 4]\n",
      "[1, 3, 5]\n",
      "[1, 4, 5]\n",
      "[2, 3, 4]\n",
      "[2, 3, 5]\n",
      "[2, 4, 5]\n",
      "[3, 4, 5]\n"
     ]
    }
   ],
   "source": [
    "for i in comb:\n",
    "    # print(ls[i])\n",
    "    print(list(i))"
   ]
  },
  {
   "cell_type": "code",
   "execution_count": 46,
   "id": "d48424d0",
   "metadata": {},
   "outputs": [
    {
     "ename": "SyntaxError",
     "evalue": "invalid syntax (1562437976.py, line 1)",
     "output_type": "error",
     "traceback": [
      "\u001b[1;36m  Cell \u001b[1;32mIn[46], line 1\u001b[1;36m\u001b[0m\n\u001b[1;33m    [1,2,3,4].del([1,2])\u001b[0m\n\u001b[1;37m              ^\u001b[0m\n\u001b[1;31mSyntaxError\u001b[0m\u001b[1;31m:\u001b[0m invalid syntax\n"
     ]
    }
   ],
   "source": [
    "[1,2,3,4].del([1,2])"
   ]
  },
  {
   "cell_type": "code",
   "execution_count": 24,
   "id": "dbdc3a22",
   "metadata": {},
   "outputs": [],
   "source": [
    "d = combinations(i, 2)"
   ]
  },
  {
   "cell_type": "code",
   "execution_count": 25,
   "id": "7ed5340e",
   "metadata": {},
   "outputs": [
    {
     "name": "stdout",
     "output_type": "stream",
     "text": [
      "(3, 4)\n",
      "(3, 5)\n",
      "(4, 5)\n"
     ]
    }
   ],
   "source": [
    "for j in d:\n",
    "    print(j)"
   ]
  },
  {
   "cell_type": "code",
   "execution_count": 26,
   "id": "da994da5",
   "metadata": {},
   "outputs": [
    {
     "data": {
      "text/plain": [
       "4"
      ]
     },
     "execution_count": 26,
     "metadata": {},
     "output_type": "execute_result"
    }
   ],
   "source": [
    "j[0]"
   ]
  },
  {
   "cell_type": "code",
   "execution_count": 4,
   "id": "11bd07d0-612e-4efa-825a-2893cfedaad3",
   "metadata": {},
   "outputs": [],
   "source": [
    "arr = [[0, 1, 2, 3],\n",
    "        [4, 0, 5, 6],\n",
    "        [7, 1, 0, 2],\n",
    "        [3, 4, 5, 0]]"
   ]
  },
  {
   "cell_type": "code",
   "execution_count": 5,
   "id": "f85d85ca",
   "metadata": {},
   "outputs": [
    {
     "data": {
      "text/plain": [
       "1"
      ]
     },
     "execution_count": 5,
     "metadata": {},
     "output_type": "execute_result"
    }
   ],
   "source": [
    "arr[0][1]"
   ]
  },
  {
   "cell_type": "code",
   "execution_count": null,
   "id": "40c14632",
   "metadata": {},
   "outputs": [],
   "source": []
  },
  {
   "cell_type": "code",
   "execution_count": null,
   "id": "881ebee4",
   "metadata": {},
   "outputs": [],
   "source": []
  },
  {
   "cell_type": "code",
   "execution_count": null,
   "id": "7a079273",
   "metadata": {},
   "outputs": [],
   "source": []
  },
  {
   "cell_type": "code",
   "execution_count": null,
   "id": "8b499e95",
   "metadata": {},
   "outputs": [],
   "source": []
  },
  {
   "cell_type": "code",
   "execution_count": null,
   "id": "c3a23686",
   "metadata": {},
   "outputs": [],
   "source": []
  },
  {
   "cell_type": "code",
   "execution_count": 7,
   "id": "da6e6fc8-6fcc-483b-9b38-528682d72b62",
   "metadata": {},
   "outputs": [],
   "source": [
    "answer = []\n",
    "length = len(stages)\n",
    "N = 5\n",
    "for i in range(1, N+1):\n",
    "    count = stages.count(i) # 리스트에서 count를 쓰면 value의 개수를 카운팅해줌\n",
    "    if length == 0:\n",
    "        fail = 0\n",
    "    else:\n",
    "        fail = count / length\n",
    "\n",
    "    answer.append((i, fail))\n",
    "    length -= count # 상위 스테이지에서는 하위 스테이지의 개수 빼주기"
   ]
  },
  {
   "cell_type": "code",
   "execution_count": 8,
   "id": "99481789-267a-43d8-8548-45e2c3a1a451",
   "metadata": {},
   "outputs": [
    {
     "data": {
      "text/plain": [
       "[(1, 0.125), (2, 0.42857142857142855), (3, 0.5), (4, 0.5), (5, 0.0)]"
      ]
     },
     "execution_count": 8,
     "metadata": {},
     "output_type": "execute_result"
    }
   ],
   "source": [
    "answer"
   ]
  },
  {
   "cell_type": "code",
   "execution_count": 9,
   "id": "9eae6fbb-6205-402f-bb2b-03f7222b32a4",
   "metadata": {},
   "outputs": [],
   "source": [
    "answer = sorted(answer, key=lambda t:t[1], reverse=True)"
   ]
  },
  {
   "cell_type": "code",
   "execution_count": 10,
   "id": "99a25ad4-57fb-4a50-9456-2016813f02cb",
   "metadata": {},
   "outputs": [
    {
     "data": {
      "text/plain": [
       "[(3, 0.5), (4, 0.5), (2, 0.42857142857142855), (1, 0.125), (5, 0.0)]"
      ]
     },
     "execution_count": 10,
     "metadata": {},
     "output_type": "execute_result"
    }
   ],
   "source": [
    "answer"
   ]
  },
  {
   "cell_type": "code",
   "execution_count": null,
   "id": "10e6f306-2746-4d78-b7d1-51d33a994adf",
   "metadata": {},
   "outputs": [],
   "source": []
  }
 ],
 "metadata": {
  "kernelspec": {
   "display_name": "Python 3 (ipykernel)",
   "language": "python",
   "name": "python3"
  },
  "language_info": {
   "codemirror_mode": {
    "name": "ipython",
    "version": 3
   },
   "file_extension": ".py",
   "mimetype": "text/x-python",
   "name": "python",
   "nbconvert_exporter": "python",
   "pygments_lexer": "ipython3",
   "version": "3.9.12"
  }
 },
 "nbformat": 4,
 "nbformat_minor": 5
}
