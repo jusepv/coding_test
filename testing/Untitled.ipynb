{
 "cells": [
  {
   "cell_type": "code",
   "execution_count": 12,
   "id": "99614854-34e8-41eb-92b9-f00cc66a4a39",
   "metadata": {},
   "outputs": [],
   "source": [
    "board = [[0] * 4 for _ in range(3)]"
   ]
  },
  {
   "cell_type": "code",
   "execution_count": 14,
   "id": "4eca7899-f573-42f5-b34a-a7fc02d80d53",
   "metadata": {},
   "outputs": [
    {
     "data": {
      "text/plain": [
       "[[0, 0, 0, 0], [0, 0, 0, 0], [0, 0, 0, 0]]"
      ]
     },
     "execution_count": 14,
     "metadata": {},
     "output_type": "execute_result"
    }
   ],
   "source": [
    "board"
   ]
  },
  {
   "cell_type": "code",
   "execution_count": 17,
   "id": "1fcc782e-4cab-4606-abf8-447af730e439",
   "metadata": {},
   "outputs": [],
   "source": [
    "def check(board):\n",
    "    for i in range(len(board)):\n",
    "        for j in range(len(board)):\n",
    "            if board[i][j] != 0:\n",
    "                return False\n",
    "    return True"
   ]
  },
  {
   "cell_type": "code",
   "execution_count": 18,
   "id": "d05a8dd8-3cde-4d17-87dc-970892b485cf",
   "metadata": {},
   "outputs": [
    {
     "data": {
      "text/plain": [
       "True"
      ]
     },
     "execution_count": 18,
     "metadata": {},
     "output_type": "execute_result"
    }
   ],
   "source": [
    "check(board)"
   ]
  },
  {
   "cell_type": "code",
   "execution_count": 4,
   "id": "6ff772dc-aa41-408f-bb57-c69caaac726c",
   "metadata": {},
   "outputs": [
    {
     "data": {
      "text/plain": [
       "1"
      ]
     },
     "execution_count": 4,
     "metadata": {},
     "output_type": "execute_result"
    }
   ],
   "source": [
    "13 % 4"
   ]
  },
  {
   "cell_type": "code",
   "execution_count": 5,
   "id": "d18f166d-0cd8-4041-adda-2bbd7de9a5a4",
   "metadata": {},
   "outputs": [
    {
     "data": {
      "text/plain": [
       "3.25"
      ]
     },
     "execution_count": 5,
     "metadata": {},
     "output_type": "execute_result"
    }
   ],
   "source": [
    "13 / 4"
   ]
  },
  {
   "cell_type": "code",
   "execution_count": 20,
   "id": "5e469ccb-1d20-4dcd-bc66-2468c1232f38",
   "metadata": {},
   "outputs": [
    {
     "name": "stdout",
     "output_type": "stream",
     "text": [
      "0\n",
      "1\n",
      "2\n",
      "3\n"
     ]
    }
   ],
   "source": [
    "for i in range(4):\n",
    "    print(i)"
   ]
  },
  {
   "cell_type": "code",
   "execution_count": 9,
   "id": "32c4f54f-24fa-4c47-93b8-a8b1ac2dfdcf",
   "metadata": {},
   "outputs": [],
   "source": [
    "l = 2"
   ]
  },
  {
   "cell_type": "code",
   "execution_count": 10,
   "id": "2dde70ca-0ad2-49c5-a4e4-0c4032cb603c",
   "metadata": {},
   "outputs": [
    {
     "name": "stdin",
     "output_type": "stream",
     "text": [
      " 3 D\n",
      " 15 L\n"
     ]
    }
   ],
   "source": [
    "data = [(input().split()) for _ in range(l)]"
   ]
  },
  {
   "cell_type": "code",
   "execution_count": 11,
   "id": "0116b5b0-dcb8-4285-93c9-cf31f0dc6f06",
   "metadata": {},
   "outputs": [
    {
     "data": {
      "text/plain": [
       "[['3', 'D'], ['15', 'L']]"
      ]
     },
     "execution_count": 11,
     "metadata": {},
     "output_type": "execute_result"
    }
   ],
   "source": [
    "data"
   ]
  },
  {
   "cell_type": "code",
   "execution_count": 19,
   "id": "a08079d1-2d19-465a-a74a-b63ba5c75a66",
   "metadata": {},
   "outputs": [
    {
     "data": {
      "text/plain": [
       "['3', 'D']"
      ]
     },
     "execution_count": 19,
     "metadata": {},
     "output_type": "execute_result"
    }
   ],
   "source": [
    "data[0]"
   ]
  },
  {
   "cell_type": "code",
   "execution_count": 21,
   "id": "badc6873-73ec-4477-bfa0-cbc0da52174e",
   "metadata": {},
   "outputs": [
    {
     "data": {
      "text/plain": [
       "3"
      ]
     },
     "execution_count": 21,
     "metadata": {},
     "output_type": "execute_result"
    }
   ],
   "source": [
    "-1%4"
   ]
  },
  {
   "cell_type": "code",
   "execution_count": 22,
   "id": "2ccd9f51-83c2-43f1-bfbc-dcca9a5c0204",
   "metadata": {},
   "outputs": [],
   "source": [
    "s = [1,2,3,4]"
   ]
  },
  {
   "cell_type": "code",
   "execution_count": 23,
   "id": "bf7723ac-c085-4b23-a7b9-f98e824e0818",
   "metadata": {},
   "outputs": [
    {
     "data": {
      "text/plain": [
       "1"
      ]
     },
     "execution_count": 23,
     "metadata": {},
     "output_type": "execute_result"
    }
   ],
   "source": [
    "s.pop(0)"
   ]
  },
  {
   "cell_type": "code",
   "execution_count": 24,
   "id": "31d41895-79b2-4ed6-a0bd-a938efce8948",
   "metadata": {},
   "outputs": [
    {
     "data": {
      "text/plain": [
       "[2, 3, 4]"
      ]
     },
     "execution_count": 24,
     "metadata": {},
     "output_type": "execute_result"
    }
   ],
   "source": [
    "s"
   ]
  },
  {
   "cell_type": "code",
   "execution_count": null,
   "id": "a8b33ef9-9ae4-423d-8be9-caa8bb241480",
   "metadata": {},
   "outputs": [],
   "source": []
  }
 ],
 "metadata": {
  "kernelspec": {
   "display_name": "Python 3 (ipykernel)",
   "language": "python",
   "name": "python3"
  },
  "language_info": {
   "codemirror_mode": {
    "name": "ipython",
    "version": 3
   },
   "file_extension": ".py",
   "mimetype": "text/x-python",
   "name": "python",
   "nbconvert_exporter": "python",
   "pygments_lexer": "ipython3",
   "version": "3.9.12"
  }
 },
 "nbformat": 4,
 "nbformat_minor": 5
}
