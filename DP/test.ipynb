{
 "cells": [
  {
   "cell_type": "code",
   "execution_count": 26,
   "id": "05da2510-34da-4a79-a131-73fc06b62981",
   "metadata": {},
   "outputs": [],
   "source": [
    "arr = [[1,3,3,2],[2,1,4,1],[0,6,4,7]]"
   ]
  },
  {
   "cell_type": "code",
   "execution_count": 27,
   "id": "b4a04767-3511-42d6-8e74-518c8abecd6a",
   "metadata": {},
   "outputs": [
    {
     "data": {
      "text/plain": [
       "[[1, 3, 3, 2], [2, 1, 4, 1], [0, 6, 4, 7]]"
      ]
     },
     "execution_count": 27,
     "metadata": {},
     "output_type": "execute_result"
    }
   ],
   "source": [
    "arr"
   ]
  },
  {
   "cell_type": "code",
   "execution_count": 29,
   "id": "b769f033-a1d3-4080-a417-474162a56972",
   "metadata": {},
   "outputs": [],
   "source": [
    "dp = []\n",
    "index =0 \n",
    "\n",
    "n, m = 3,4\n",
    "\n",
    "for i in range(n):\n",
    "    dp.append(arr[index:index+m])\n",
    "    index += m"
   ]
  },
  {
   "cell_type": "code",
   "execution_count": 30,
   "id": "9d8654e5-6e0c-4351-b59a-9ffb18c3cc5f",
   "metadata": {},
   "outputs": [
    {
     "data": {
      "text/plain": [
       "[[[1, 3, 3, 2], [2, 1, 4, 1], [0, 6, 4, 7]], [], []]"
      ]
     },
     "execution_count": 30,
     "metadata": {},
     "output_type": "execute_result"
    }
   ],
   "source": [
    "dp"
   ]
  },
  {
   "cell_type": "code",
   "execution_count": 31,
   "id": "e3d0e31a-5de4-41f4-be5a-d70d9ea60e9d",
   "metadata": {},
   "outputs": [
    {
     "data": {
      "text/plain": [
       "[[1, 3, 3, 2], [2, 1, 4, 1], [0, 6, 4, 7]]"
      ]
     },
     "execution_count": 31,
     "metadata": {},
     "output_type": "execute_result"
    }
   ],
   "source": [
    "dp[0]"
   ]
  },
  {
   "cell_type": "code",
   "execution_count": 32,
   "id": "d56a730f-ef0f-4fb9-8e3d-ba5906e88638",
   "metadata": {},
   "outputs": [
    {
     "data": {
      "text/plain": [
       "[]"
      ]
     },
     "execution_count": 32,
     "metadata": {},
     "output_type": "execute_result"
    }
   ],
   "source": [
    "dp[1]"
   ]
  },
  {
   "cell_type": "code",
   "execution_count": 33,
   "id": "51cc285c-04ce-4838-8028-88deff8cd9ad",
   "metadata": {},
   "outputs": [
    {
     "data": {
      "text/plain": [
       "3"
      ]
     },
     "execution_count": 33,
     "metadata": {},
     "output_type": "execute_result"
    }
   ],
   "source": [
    "len(dp)"
   ]
  },
  {
   "cell_type": "code",
   "execution_count": 34,
   "id": "87598501-7769-4cd0-9c92-0c147cc5021f",
   "metadata": {},
   "outputs": [
    {
     "ename": "IndexError",
     "evalue": "list index out of range",
     "output_type": "error",
     "traceback": [
      "\u001b[1;31m---------------------------------------------------------------------------\u001b[0m",
      "\u001b[1;31mIndexError\u001b[0m                                Traceback (most recent call last)",
      "Input \u001b[1;32mIn [34]\u001b[0m, in \u001b[0;36m<cell line: 1>\u001b[1;34m()\u001b[0m\n\u001b[0;32m      9\u001b[0m     left_down \u001b[38;5;241m=\u001b[39m \u001b[38;5;241m0\u001b[39m\n\u001b[0;32m     10\u001b[0m \u001b[38;5;28;01melse\u001b[39;00m:\n\u001b[1;32m---> 11\u001b[0m     left_down \u001b[38;5;241m=\u001b[39m \u001b[43mdp\u001b[49m\u001b[43m[\u001b[49m\u001b[43mi\u001b[49m\u001b[38;5;241;43m+\u001b[39;49m\u001b[38;5;241;43m1\u001b[39;49m\u001b[43m]\u001b[49m\u001b[43m[\u001b[49m\u001b[43mj\u001b[49m\u001b[38;5;241;43m-\u001b[39;49m\u001b[38;5;241;43m1\u001b[39;49m\u001b[43m]\u001b[49m\n\u001b[0;32m     12\u001b[0m \u001b[38;5;66;03m# 왼쪽에서 오는 경우\u001b[39;00m\n\u001b[0;32m     13\u001b[0m left \u001b[38;5;241m=\u001b[39m dp[i][j\u001b[38;5;241m-\u001b[39m\u001b[38;5;241m1\u001b[39m]\n",
      "\u001b[1;31mIndexError\u001b[0m: list index out of range"
     ]
    }
   ],
   "source": [
    "for j in range(1, m):\n",
    "    for i in range(n):\n",
    "        # 왼쪽 위에서 오는 경우\n",
    "        if i == 0:\n",
    "            left_up = 0\n",
    "        else:\n",
    "            left_up = dp[i-1][j-1]\n",
    "        if i == n-1: # 왼쪽 아래서 오는 경우\n",
    "            left_down = 0\n",
    "        else:\n",
    "            left_down = dp[i+1][j-1]\n",
    "        # 왼쪽에서 오는 경우\n",
    "        left = dp[i][j-1]\n",
    "        dp[i][j] = dp[i][j] + max(left_up, left, left_down)\n",
    "    print(dp)"
   ]
  },
  {
   "cell_type": "code",
   "execution_count": 23,
   "id": "d6faf6e1-e095-492d-8b14-f6b38e81e4cd",
   "metadata": {},
   "outputs": [
    {
     "data": {
      "text/plain": [
       "(0, 1)"
      ]
     },
     "execution_count": 23,
     "metadata": {},
     "output_type": "execute_result"
    }
   ],
   "source": [
    "i, j"
   ]
  },
  {
   "cell_type": "code",
   "execution_count": 25,
   "id": "e4bbdf3f-086c-486f-9c60-e6cb70ba0a05",
   "metadata": {},
   "outputs": [
    {
     "data": {
      "text/plain": [
       "[[[1, 3, 3, 2], [2, 1, 4, 1], [0, 6, 4, 7]], [], []]"
      ]
     },
     "execution_count": 25,
     "metadata": {},
     "output_type": "execute_result"
    }
   ],
   "source": []
  },
  {
   "cell_type": "code",
   "execution_count": null,
   "id": "3552127e-a518-495d-8522-0a1722f5bf8e",
   "metadata": {},
   "outputs": [],
   "source": []
  }
 ],
 "metadata": {
  "kernelspec": {
   "display_name": "Python 3 (ipykernel)",
   "language": "python",
   "name": "python3"
  },
  "language_info": {
   "codemirror_mode": {
    "name": "ipython",
    "version": 3
   },
   "file_extension": ".py",
   "mimetype": "text/x-python",
   "name": "python",
   "nbconvert_exporter": "python",
   "pygments_lexer": "ipython3",
   "version": "3.9.12"
  }
 },
 "nbformat": 4,
 "nbformat_minor": 5
}
