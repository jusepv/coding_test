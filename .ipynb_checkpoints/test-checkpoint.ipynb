{
 "cells": [
  {
   "cell_type": "code",
   "execution_count": 2,
   "id": "88d38010-c1cd-49fb-95c0-1d07606c209c",
   "metadata": {},
   "outputs": [],
   "source": [
    "from itertools import combinations\n",
    "from operator import add"
   ]
  },
  {
   "cell_type": "code",
   "execution_count": 1,
   "id": "ae2c1940-8ec2-4fdb-828b-0ccc3048635d",
   "metadata": {},
   "outputs": [],
   "source": [
    "arr = [[1,2,3,4],[5,6,7,8],[9,10,11,12]]"
   ]
  },
  {
   "cell_type": "code",
   "execution_count": 4,
   "id": "a1eec810-bc13-4e7c-9f48-9f61850a3c13",
   "metadata": {},
   "outputs": [
    {
     "data": {
      "text/plain": [
       "4"
      ]
     },
     "execution_count": 4,
     "metadata": {},
     "output_type": "execute_result"
    }
   ],
   "source": [
    "len(arr[0])"
   ]
  },
  {
   "cell_type": "code",
   "execution_count": 6,
   "id": "d3a64c71-f2a9-47fc-bf93-05ed54afeb64",
   "metadata": {},
   "outputs": [],
   "source": [
    "def rotate_270(arr):\n",
    "    r = len(arr)          \n",
    "    c = len(arr[0])       \n",
    "    res = [[0]*r for _ in range(c)]  # 결과 배열: c x r (90도와 동일)\n",
    "    for i in range(r):\n",
    "        for j in range(c):\n",
    "            res[c-1-j][i] = arr[i][j]  # 270도 회전\n",
    "    return res"
   ]
  },
  {
   "cell_type": "code",
   "execution_count": 7,
   "id": "0722c5f3-5b09-4869-b636-0df635841a93",
   "metadata": {},
   "outputs": [
    {
     "data": {
      "text/plain": [
       "[[4, 8, 12], [3, 7, 11], [2, 6, 10], [1, 5, 9]]"
      ]
     },
     "execution_count": 7,
     "metadata": {},
     "output_type": "execute_result"
    }
   ],
   "source": [
    "rotate_270(arr)"
   ]
  },
  {
   "cell_type": "code",
   "execution_count": 8,
   "id": "cadf3e6d-01d2-4bec-9f87-3c1d8fcec686",
   "metadata": {},
   "outputs": [],
   "source": [
    "arr = [[7 * j + i for i in range(1, 8)] for j in range(7)]"
   ]
  },
  {
   "cell_type": "code",
   "execution_count": 9,
   "id": "1166759d-920a-4fcd-879d-b360d7f9ff10",
   "metadata": {},
   "outputs": [
    {
     "data": {
      "text/plain": [
       "[[1, 2, 3, 4, 5, 6, 7],\n",
       " [8, 9, 10, 11, 12, 13, 14],\n",
       " [15, 16, 17, 18, 19, 20, 21],\n",
       " [22, 23, 24, 25, 26, 27, 28],\n",
       " [29, 30, 31, 32, 33, 34, 35],\n",
       " [36, 37, 38, 39, 40, 41, 42],\n",
       " [43, 44, 45, 46, 47, 48, 49]]"
      ]
     },
     "execution_count": 9,
     "metadata": {},
     "output_type": "execute_result"
    }
   ],
   "source": [
    "arr"
   ]
  },
  {
   "cell_type": "code",
   "execution_count": 10,
   "id": "12961875-06ae-436b-a9be-7ecfcfa1a423",
   "metadata": {},
   "outputs": [],
   "source": [
    "arr = [[7 * j + i for i in range(1, 8)] for j in range(7)]\n",
    "\n",
    "start_x, start_y = 2, 2\n",
    "length = 3\n",
    "\n",
    "#정사각형 배열의 특정 부분만 회전시키는 함수\n",
    "def partial_rotate(arr, start_x, start_y, length):\n",
    "    n = len(arr)\n",
    "    new_arr = [[0] * n for _ in range(n)]\n",
    "    for y in range(start_y, start_y+length):\n",
    "        for x in range(start_x, start_x+length):\n",
    "            # 1. (0,0)으로 옮겨주는 변환 진행\n",
    "            oy, ox = y - start_y, x-start_x\n",
    "            # 2. 90도 회전했을때 좌표 구함\n",
    "            ry, rx = ox, length-oy-1\n",
    "            # 3. 다시 (start_y, start_x)를 더해줌\n",
    "            new_arr[start_y+ry][start_x+rx] = arr[y][x]\n",
    "\n",
    "    for y in range(start_y, start_y+length):\n",
    "        for x in range(start_x, start_x+length):\n",
    "            arr[y][x] = new_arr[y][x]\n",
    "\n",
    "    return arr"
   ]
  },
  {
   "cell_type": "code",
   "execution_count": 12,
   "id": "1279d3b4-8399-4c91-b71c-994588774f5c",
   "metadata": {},
   "outputs": [
    {
     "data": {
      "text/plain": [
       "[[1, 2, 3, 4, 5, 6, 7],\n",
       " [8, 9, 10, 11, 12, 13, 14],\n",
       " [15, 16, 33, 0, 0, 20, 21],\n",
       " [22, 23, 0, 0, 0, 27, 28],\n",
       " [29, 30, 0, 0, 0, 34, 35],\n",
       " [36, 37, 38, 39, 40, 41, 42],\n",
       " [43, 44, 45, 46, 47, 48, 49]]"
      ]
     },
     "execution_count": 12,
     "metadata": {},
     "output_type": "execute_result"
    }
   ],
   "source": [
    "partial_rotate(arr, start_x, start_y, 3)"
   ]
  },
  {
   "cell_type": "code",
   "execution_count": null,
   "id": "f50350f4-3681-42b9-8343-c17b92083c58",
   "metadata": {},
   "outputs": [],
   "source": []
  },
  {
   "cell_type": "code",
   "execution_count": null,
   "id": "ca49e7e0-a0f6-4123-8a2c-f1a94c0ecd71",
   "metadata": {},
   "outputs": [],
   "source": []
  },
  {
   "cell_type": "code",
   "execution_count": null,
   "id": "870af507-dabe-41b1-b755-7fe4f37a1e80",
   "metadata": {},
   "outputs": [],
   "source": []
  },
  {
   "cell_type": "code",
   "execution_count": null,
   "id": "76ad5247-caec-4e58-9aa2-ba1fc4ad1535",
   "metadata": {},
   "outputs": [],
   "source": []
  },
  {
   "cell_type": "code",
   "execution_count": 5,
   "id": "9d54258b",
   "metadata": {},
   "outputs": [
    {
     "data": {
      "text/plain": [
       "[0, 1]"
      ]
     },
     "execution_count": 5,
     "metadata": {},
     "output_type": "execute_result"
    }
   ],
   "source": [
    "[sum(x) for x in zip([0,0], [0,1])]"
   ]
  },
  {
   "cell_type": "code",
   "execution_count": 16,
   "id": "7cc6af47",
   "metadata": {},
   "outputs": [],
   "source": [
    "half = int(N/2)"
   ]
  },
  {
   "cell_type": "code",
   "execution_count": 17,
   "id": "6978a729",
   "metadata": {},
   "outputs": [],
   "source": [
    "ls = [i for i in range(N)]"
   ]
  },
  {
   "cell_type": "code",
   "execution_count": 36,
   "id": "875b6284",
   "metadata": {},
   "outputs": [],
   "source": [
    "comb = combinations(ls, half)"
   ]
  },
  {
   "cell_type": "code",
   "execution_count": 37,
   "id": "b68e4c92",
   "metadata": {},
   "outputs": [
    {
     "name": "stdout",
     "output_type": "stream",
     "text": [
      "[0, 1, 2]\n",
      "[0, 1, 3]\n",
      "[0, 1, 4]\n",
      "[0, 1, 5]\n",
      "[0, 2, 3]\n",
      "[0, 2, 4]\n",
      "[0, 2, 5]\n",
      "[0, 3, 4]\n",
      "[0, 3, 5]\n",
      "[0, 4, 5]\n",
      "[1, 2, 3]\n",
      "[1, 2, 4]\n",
      "[1, 2, 5]\n",
      "[1, 3, 4]\n",
      "[1, 3, 5]\n",
      "[1, 4, 5]\n",
      "[2, 3, 4]\n",
      "[2, 3, 5]\n",
      "[2, 4, 5]\n",
      "[3, 4, 5]\n"
     ]
    }
   ],
   "source": [
    "for i in comb:\n",
    "    # print(ls[i])\n",
    "    print(list(i))"
   ]
  },
  {
   "cell_type": "code",
   "execution_count": 46,
   "id": "d48424d0",
   "metadata": {},
   "outputs": [
    {
     "ename": "SyntaxError",
     "evalue": "invalid syntax (1562437976.py, line 1)",
     "output_type": "error",
     "traceback": [
      "\u001b[1;36m  Cell \u001b[1;32mIn[46], line 1\u001b[1;36m\u001b[0m\n\u001b[1;33m    [1,2,3,4].del([1,2])\u001b[0m\n\u001b[1;37m              ^\u001b[0m\n\u001b[1;31mSyntaxError\u001b[0m\u001b[1;31m:\u001b[0m invalid syntax\n"
     ]
    }
   ],
   "source": [
    "[1,2,3,4].del([1,2])"
   ]
  },
  {
   "cell_type": "code",
   "execution_count": 24,
   "id": "dbdc3a22",
   "metadata": {},
   "outputs": [],
   "source": [
    "d = combinations(i, 2)"
   ]
  },
  {
   "cell_type": "code",
   "execution_count": 25,
   "id": "7ed5340e",
   "metadata": {},
   "outputs": [
    {
     "name": "stdout",
     "output_type": "stream",
     "text": [
      "(3, 4)\n",
      "(3, 5)\n",
      "(4, 5)\n"
     ]
    }
   ],
   "source": [
    "for j in d:\n",
    "    print(j)"
   ]
  },
  {
   "cell_type": "code",
   "execution_count": 26,
   "id": "da994da5",
   "metadata": {},
   "outputs": [
    {
     "data": {
      "text/plain": [
       "4"
      ]
     },
     "execution_count": 26,
     "metadata": {},
     "output_type": "execute_result"
    }
   ],
   "source": [
    "j[0]"
   ]
  },
  {
   "cell_type": "code",
   "execution_count": 4,
   "id": "11bd07d0-612e-4efa-825a-2893cfedaad3",
   "metadata": {},
   "outputs": [],
   "source": [
    "arr = [[0, 1, 2, 3],\n",
    "        [4, 0, 5, 6],\n",
    "        [7, 1, 0, 2],\n",
    "        [3, 4, 5, 0]]"
   ]
  },
  {
   "cell_type": "code",
   "execution_count": 5,
   "id": "f85d85ca",
   "metadata": {},
   "outputs": [
    {
     "data": {
      "text/plain": [
       "1"
      ]
     },
     "execution_count": 5,
     "metadata": {},
     "output_type": "execute_result"
    }
   ],
   "source": [
    "arr[0][1]"
   ]
  },
  {
   "cell_type": "code",
   "execution_count": null,
   "id": "40c14632",
   "metadata": {},
   "outputs": [],
   "source": []
  },
  {
   "cell_type": "code",
   "execution_count": null,
   "id": "881ebee4",
   "metadata": {},
   "outputs": [],
   "source": []
  },
  {
   "cell_type": "code",
   "execution_count": null,
   "id": "7a079273",
   "metadata": {},
   "outputs": [],
   "source": []
  },
  {
   "cell_type": "code",
   "execution_count": null,
   "id": "8b499e95",
   "metadata": {},
   "outputs": [],
   "source": []
  },
  {
   "cell_type": "code",
   "execution_count": null,
   "id": "c3a23686",
   "metadata": {},
   "outputs": [],
   "source": []
  },
  {
   "cell_type": "code",
   "execution_count": 7,
   "id": "da6e6fc8-6fcc-483b-9b38-528682d72b62",
   "metadata": {},
   "outputs": [],
   "source": [
    "answer = []\n",
    "length = len(stages)\n",
    "N = 5\n",
    "for i in range(1, N+1):\n",
    "    count = stages.count(i) # 리스트에서 count를 쓰면 value의 개수를 카운팅해줌\n",
    "    if length == 0:\n",
    "        fail = 0\n",
    "    else:\n",
    "        fail = count / length\n",
    "\n",
    "    answer.append((i, fail))\n",
    "    length -= count # 상위 스테이지에서는 하위 스테이지의 개수 빼주기"
   ]
  },
  {
   "cell_type": "code",
   "execution_count": 8,
   "id": "99481789-267a-43d8-8548-45e2c3a1a451",
   "metadata": {},
   "outputs": [
    {
     "data": {
      "text/plain": [
       "[(1, 0.125), (2, 0.42857142857142855), (3, 0.5), (4, 0.5), (5, 0.0)]"
      ]
     },
     "execution_count": 8,
     "metadata": {},
     "output_type": "execute_result"
    }
   ],
   "source": [
    "answer"
   ]
  },
  {
   "cell_type": "code",
   "execution_count": 9,
   "id": "9eae6fbb-6205-402f-bb2b-03f7222b32a4",
   "metadata": {},
   "outputs": [],
   "source": [
    "answer = sorted(answer, key=lambda t:t[1], reverse=True)"
   ]
  },
  {
   "cell_type": "code",
   "execution_count": 10,
   "id": "99a25ad4-57fb-4a50-9456-2016813f02cb",
   "metadata": {},
   "outputs": [
    {
     "data": {
      "text/plain": [
       "[(3, 0.5), (4, 0.5), (2, 0.42857142857142855), (1, 0.125), (5, 0.0)]"
      ]
     },
     "execution_count": 10,
     "metadata": {},
     "output_type": "execute_result"
    }
   ],
   "source": [
    "answer"
   ]
  },
  {
   "cell_type": "code",
   "execution_count": null,
   "id": "10e6f306-2746-4d78-b7d1-51d33a994adf",
   "metadata": {},
   "outputs": [],
   "source": []
  }
 ],
 "metadata": {
  "kernelspec": {
   "display_name": "Python 3 (ipykernel)",
   "language": "python",
   "name": "python3"
  },
  "language_info": {
   "codemirror_mode": {
    "name": "ipython",
    "version": 3
   },
   "file_extension": ".py",
   "mimetype": "text/x-python",
   "name": "python",
   "nbconvert_exporter": "python",
   "pygments_lexer": "ipython3",
   "version": "3.9.12"
  }
 },
 "nbformat": 4,
 "nbformat_minor": 5
}
